{
 "metadata": {
  "name": "",
  "signature": "sha256:3640dc39d0e322ca939e717731497d58f03e84894c9bca5dea4f965807a31243"
 },
 "nbformat": 3,
 "nbformat_minor": 0,
 "worksheets": [
  {
   "cells": [
    {
     "cell_type": "heading",
     "level": 1,
     "metadata": {},
     "source": [
      "Exercises:"
     ]
    },
    {
     "cell_type": "markdown",
     "metadata": {},
     "source": [
      "- [IPython]() ([NBViewer version]())\n",
      "    - []()\n",
      "- [Matplotlib]() ([NBViewer version]())\n",
      "    - []()\n",
      "\n",
      "- [NumPy]() ([NBViewer version]())\n",
      "    - []()\n",
      "- [SciPy]() ([NBViewer version]())\n",
      "    - [Special Functions]()\n",
      "    - [Sparse]()\n",
      "- [Pandas]() ([NBViewer version]())\n",
      "- [ODE]() ([NBViewer version]())\n",
      "- [Lorenz]() ([NBViewer version]())\n",
      "- [HestonModel]() ([NBViewer version]())\n",
      "- [Heat Equation]() ([NBViewer version]())\n",
      "- [Reduced Heat Equation]() ([NBViewer version]())\n",
      "- [Non-linear]() ([NBViewer version]())\n",
      "- [Benchmarking]() ([NBViewer version]())\n",
      "- [TimeSeries]() ([NBViewer version]())\n",
      "- [Financial TimeSeries]() ([NBViewer version]())\n",
      "- [Parallelization]()\n",
      "    - [IPCluster]()\n",
      "    - [Multiprocessing]()\n",
      "    - [MPI]()\n",
      "    - [pyCUDA]()"
     ]
    },
    {
     "cell_type": "code",
     "collapsed": false,
     "input": [],
     "language": "python",
     "metadata": {},
     "outputs": []
    }
   ],
   "metadata": {}
  }
 ]
}