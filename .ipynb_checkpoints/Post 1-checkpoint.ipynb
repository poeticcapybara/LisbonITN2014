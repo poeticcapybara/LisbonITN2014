{
 "metadata": {
  "name": "",
  "signature": "sha256:8dd6fa845b6db22084b87bb75c52d02b2457350433795d08a0e7c0097bc09ff6"
 },
 "nbformat": 3,
 "nbformat_minor": 0,
 "worksheets": [
  {
   "cells": [
    {
     "cell_type": "code",
     "collapsed": false,
     "input": [
      "import pandas as pd\n",
      "import matplotlib as mpl\n",
      "import numpy as np"
     ],
     "language": "python",
     "metadata": {},
     "outputs": [],
     "prompt_number": 1
    },
    {
     "cell_type": "code",
     "collapsed": false,
     "input": [
      "%install_ext /home/jpsilva/CodeWuppertal/version_information/version_information.py"
     ],
     "language": "python",
     "metadata": {},
     "outputs": [
      {
       "output_type": "stream",
       "stream": "stdout",
       "text": [
        "Installed version_information.py. To use it, type:\n",
        "  %load_ext version_information\n"
       ]
      }
     ],
     "prompt_number": 2
    },
    {
     "cell_type": "code",
     "collapsed": false,
     "input": [
      "%load_ext version_information"
     ],
     "language": "python",
     "metadata": {},
     "outputs": [],
     "prompt_number": 3
    },
    {
     "cell_type": "code",
     "collapsed": false,
     "input": [
      "%version_information pandas, matplotlib, numpy"
     ],
     "language": "python",
     "metadata": {},
     "outputs": [
      {
       "html": [
        "<table><tr><th>Software</th><th>Version</th></tr><tr><td>Python</td><td>2.7.8 |Anaconda 2.0.1 (64-bit)| (default, Jul  2 2014, 18:08:02) [GCC 4.1.2 20080704 (Red Hat 4.1.2-54)]</td></tr><tr><td>IPython</td><td>2.2.0</td></tr><tr><td>OS</td><td>posix [linux2]</td></tr><tr><td>pandas</td><td>0.14.1</td></tr><tr><td>matplotlib</td><td>1.3.1</td></tr><tr><td>numpy</td><td>1.8.1</td></tr><tr><td colspan='2'>Mon Aug 18 14:56:30 2014 CEST</td></tr></table>"
       ],
       "json": [
        "{ \"Software versions\" : [{ \"module\" : \"Python\", \"version\" : \"2.7.8 |Anaconda 2.0.1 (64-bit)| (default, Jul  2 2014, 18:08:02) [GCC 4.1.2 20080704 (Red Hat 4.1.2-54)]\" }, { \"module\" : \"IPython\", \"version\" : \"2.2.0\" }, { \"module\" : \"OS\", \"version\" : \"posix [linux2]\" }, { \"module\" : \"pandas\", \"version\" : \"0.14.1\" }, { \"module\" : \"matplotlib\", \"version\" : \"1.3.1\" }, { \"module\" : \"numpy\", \"version\" : \"1.8.1\" } ] }"
       ],
       "latex": [
        "\\begin{tabular}{|l|l|}\\hline\n",
        "{\\bf Software} & {\\bf Version} \\\\ \\hline\\hline\n",
        "Python & 2.7.8 |Anaconda 2.0.1 (64-bit)| (default, Jul  2 2014, 18:08:02) [GCC 4.1.2 20080704 (Red Hat 4.1.2-54)] \\\\ \\hline\n",
        "IPython & 2.2.0 \\\\ \\hline\n",
        "OS & posix [linux2] \\\\ \\hline\n",
        "pandas & 0.14.1 \\\\ \\hline\n",
        "matplotlib & 1.3.1 \\\\ \\hline\n",
        "numpy & 1.8.1 \\\\ \\hline\n",
        "\\hline \\multicolumn{2}{|l|}{Mon Aug 18 14:56:30 2014 CEST} \\\\ \\hline\n",
        "\\end{tabular}\n"
       ],
       "metadata": {},
       "output_type": "pyout",
       "prompt_number": 8,
       "text": [
        "Software versions\n",
        "Python 2.7.8 |Anaconda 2.0.1 (64-bit)| (default, Jul  2 2014, 18:08:02) [GCC 4.1.2 20080704 (Red Hat 4.1.2-54)]\n",
        "IPython 2.2.0\n",
        "OS posix [linux2]\n",
        "pandas 0.14.1\n",
        "matplotlib 1.3.1\n",
        "numpy 1.8.1\n",
        "\n",
        "Mon Aug 18 14:56:30 2014 CEST"
       ]
      }
     ],
     "prompt_number": 8
    },
    {
     "cell_type": "code",
     "collapsed": false,
     "input": [],
     "language": "python",
     "metadata": {},
     "outputs": []
    }
   ],
   "metadata": {}
  }
 ]
}