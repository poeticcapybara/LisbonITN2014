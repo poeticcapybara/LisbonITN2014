{
 "metadata": {
  "name": "",
  "signature": "sha256:429177074229fb02ebfab6c4c63a4dab8c77568e0a958b7b68da2a690792c931"
 },
 "nbformat": 3,
 "nbformat_minor": 0,
 "worksheets": [
  {
   "cells": [
    {
     "cell_type": "heading",
     "level": 1,
     "metadata": {},
     "source": [
      "Exercises:"
     ]
    },
    {
     "cell_type": "markdown",
     "metadata": {},
     "source": [
      "- [IPython]() ([NBViewer version]())\n",
      "    - []()\n",
      "- [Matplotlib]() ([NBViewer version]())\n",
      "    - []()\n",
      "\n",
      "- [NumPy]() ([NBViewer version]())\n",
      "    - []()\n",
      "- [SciPy]() ([NBViewer version]())\n",
      "    - [Special Functions]()\n",
      "    - [Sparse]()\n",
      "- [Pandas]() ([NBViewer version]())\n",
      "- [ODE]() ([NBViewer version]())\n",
      "- [Lorenz]() ([NBViewer version]())\n",
      "- [HestonModel]() ([NBViewer version]())\n",
      "- [Heat Equation]() ([NBViewer version]())\n",
      "- [Reduced Heat Equation]() ([NBViewer version]())\n",
      "- [Non-linear]() ([NBViewer version]())\n",
      "- [Benchmarking]() ([NBViewer version]())\n",
      "- [TimeSeries]() ([NBViewer version]())\n",
      "- [Financial TimeSeries]() ([NBViewer version]())\n",
      "- [Parallelization]()\n",
      "    - [Multiprocessing]()\n",
      "    - [MPI]()\n",
      "    - [pyCUDA]()"
     ]
    },
    {
     "cell_type": "code",
     "collapsed": false,
     "input": [],
     "language": "python",
     "metadata": {},
     "outputs": []
    }
   ],
   "metadata": {}
  }
 ]
}