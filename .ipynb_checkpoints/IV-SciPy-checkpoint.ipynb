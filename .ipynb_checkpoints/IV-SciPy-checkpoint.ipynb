{
 "metadata": {
  "name": "",
  "signature": "sha256:e5f8580f53b48a88120aa569a511ae16617c7ea64d22806df32b0d9e122d54ff"
 },
 "nbformat": 3,
 "nbformat_minor": 0,
 "worksheets": [
  {
   "cells": [
    {
     "cell_type": "code",
     "collapsed": false,
     "input": [
      "import scipy as scp"
     ],
     "language": "python",
     "metadata": {},
     "outputs": [],
     "prompt_number": 1
    },
    {
     "cell_type": "code",
     "collapsed": false,
     "input": [],
     "language": "python",
     "metadata": {},
     "outputs": []
    }
   ],
   "metadata": {}
  }
 ]
}