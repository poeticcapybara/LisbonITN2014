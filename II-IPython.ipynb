{
 "metadata": {
  "name": "",
  "signature": "sha256:1036d08e6b2013198a71c52a7be30d0adebe52a4e8bdef355cd321115c46e30a"
 },
 "nbformat": 3,
 "nbformat_minor": 0,
 "worksheets": [
  {
   "cells": [
    {
     "cell_type": "code",
     "collapsed": false,
     "input": [],
     "language": "python",
     "metadata": {},
     "outputs": []
    }
   ],
   "metadata": {}
  }
 ]
}