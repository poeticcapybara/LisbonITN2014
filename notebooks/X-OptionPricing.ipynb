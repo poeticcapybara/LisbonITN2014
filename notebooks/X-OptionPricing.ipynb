{
 "metadata": {
  "name": "",
  "signature": "sha256:b07399209ade2e606fece5b23e02d8f0707b9d42a1964a644d5f653d45562f1f"
 },
 "nbformat": 3,
 "nbformat_minor": 0,
 "worksheets": [
  {
   "cells": [
    {
     "cell_type": "markdown",
     "metadata": {},
     "source": [
      "#X-OptionPricing"
     ]
    },
    {
     "cell_type": "markdown",
     "metadata": {},
     "source": [
      "Let's obtain the price of an european call on a stock paying no dividends using three different methods:\n",
      "   - PDE\n",
      "   - Monte Carlo\n",
      "   - Fast Fourier Transform\n",
      "   \n",
      "Let's use the following parameters:"
     ]
    },
    {
     "cell_type": "code",
     "collapsed": false,
     "input": [
      "r = 0.05\n",
      "sigma = 0.2\n",
      "T = 1\n",
      "K = 100\n",
      "S0 = 120"
     ],
     "language": "python",
     "metadata": {},
     "outputs": [],
     "prompt_number": 144
    },
    {
     "cell_type": "heading",
     "level": 5,
     "metadata": {},
     "source": [
      "1D Black-Scholes Option PDE"
     ]
    },
    {
     "cell_type": "markdown",
     "metadata": {},
     "source": [
      "Add equation"
     ]
    },
    {
     "cell_type": "code",
     "collapsed": false,
     "input": [
      "from scipy.sparse import *\n",
      "from scipy.sparse.linalg import spsolve\n",
      "from scipy.sparse import eye as speye\n",
      "from numpy import linspace, ones, array, maximum\n",
      "%pylab\n",
      "\n",
      "nt = 100\n",
      "ns = 150\n",
      "\n",
      "t,dt = linspace(0,T,nt,retstep=True)\n",
      "s,ds = linspace(0,3*K,ns,retstep=True)\n",
      "\n",
      "e1 = ones(ns)\n",
      "data = array([e1,-2*e1,e1])\n",
      "diags = array([-1,0,1])\n",
      "sd = 0.5*sigma**2*spdiags(s**2,0,ns,ns)*spdiags(data,diags,ns,ns)/(ds**2)\n",
      "data = array([-e1,e1])\n",
      "diags = array([-1,1])\n",
      "fd = r*spdiags(s,0,ns,ns)*spdiags(data,diags,ns,ns)/(2*ds)\n",
      "reac = -r*speye(ns)"
     ],
     "language": "python",
     "metadata": {},
     "outputs": [
      {
       "output_type": "stream",
       "stream": "stdout",
       "text": [
        "Using matplotlib backend: Qt4Agg\n",
        "Populating the interactive namespace from numpy and matplotlib\n"
       ]
      },
      {
       "output_type": "stream",
       "stream": "stderr",
       "text": [
        "WARNING: pylab import has clobbered these variables: ['norm', 'eye', 'extract', 'vstack', 'rand', 'find', 'identity', 'kron', 'hstack', 'tril', 'triu', 'bmat']\n",
        "`%matplotlib` prevents importing * from pylab and numpy\n"
       ]
      }
     ],
     "prompt_number": 145
    },
    {
     "cell_type": "code",
     "collapsed": false,
     "input": [
      "A = sd+fd+reac\n",
      "AA = speye(ns-2)-dt*A[1:-1,1:-1]\n",
      "\n",
      "bc = zeros((ns-2,nt))\n",
      "bc[-1,:] = dt*A[-2,-1]*(s[-1]-K*exp(-r*t))\n",
      "v1 = maximum(s[1:-1]-K,0)\n",
      "for i in range(nt-1):\n",
      "    v1 = spsolve(AA,v1+bc[:,i+1])\n",
      "plot(s[1:-1],v1)"
     ],
     "language": "python",
     "metadata": {},
     "outputs": [
      {
       "metadata": {},
       "output_type": "pyout",
       "prompt_number": 146,
       "text": [
        "[<matplotlib.lines.Line2D at 0x7f4050e9db50>]"
       ]
      }
     ],
     "prompt_number": 146
    },
    {
     "cell_type": "code",
     "collapsed": false,
     "input": [
      "from scipy.integrate import odeint\n",
      "\n",
      "def f_odeint(x,tt, A,s,K,r,coef):\n",
      "    bc = zeros((ns-2))\n",
      "    bc[-1] = coef*(s-K*exp(-r*tt))\n",
      "    return A.dot(x)+bc\n",
      "\n",
      "v2_0 = maximum(s[1:-1]-K,0)\n",
      "AA = A[1:-1,1:-1]\n",
      "v2 = odeint(f_odeint,v2_0,t,(AA,s[-1],K,r,A[-2,-1]))\n",
      "plot(s[1:-1],v2[-1,:])"
     ],
     "language": "python",
     "metadata": {},
     "outputs": [
      {
       "metadata": {},
       "output_type": "pyout",
       "prompt_number": 147,
       "text": [
        "[<matplotlib.lines.Line2D at 0x7f4051319e10>]"
       ]
      }
     ],
     "prompt_number": 147
    },
    {
     "cell_type": "code",
     "collapsed": false,
     "input": [
      "from scipy.integrate import ode\n",
      "\n",
      "def f_ode(t,x,A,s,K,r,coef):\n",
      "    bc = zeros((ns-2))\n",
      "    bc[-1] = coef*(s-K*exp(-r*t))\n",
      "    return A.dot(x)+bc\n",
      "\n",
      "v3_0 = maximum(s[1:-1]-K,0)\n",
      "AA = A[1:-1,1:-1]\n",
      "bs = ode(f_ode).set_f_params(AA,s[-1],K,r,A[-2,-1]).set_initial_value(v3_0,t[0])"
     ],
     "language": "python",
     "metadata": {},
     "outputs": [],
     "prompt_number": 148
    },
    {
     "cell_type": "code",
     "collapsed": false,
     "input": [
      "while bs.successful() and bs.t < t[-1]:\n",
      "    bs.integrate(bs.t+dt)\n",
      "v3 = bs.y\n",
      "plot(s[1:-1],v3)"
     ],
     "language": "python",
     "metadata": {},
     "outputs": [
      {
       "metadata": {},
       "output_type": "pyout",
       "prompt_number": 149,
       "text": [
        "[<matplotlib.lines.Line2D at 0x7f4050e58a50>]"
       ]
      }
     ],
     "prompt_number": 149
    },
    {
     "cell_type": "heading",
     "level": 5,
     "metadata": {},
     "source": [
      "1D Black-Scholes Option MC"
     ]
    },
    {
     "cell_type": "code",
     "collapsed": false,
     "input": [
      "from scipy.special import erfinv\n",
      "\n",
      "N = 10000   # numero pontos\n",
      "\n",
      "def ncfinv(x):\n",
      "    return sqrt(2)*spyspc.erfinv(2*x-1)\n",
      "\n",
      "def s(S0,T,u):\n",
      "    a = S0*exp((r-0.5*pow(sigma,2))*T+sigma*sqrt(T)*ncfinv(u))\n",
      "    return a\n",
      "\n",
      "u = random.uniform(0,T,N)\n",
      "st = s(S0,T,u)\n",
      "i = exp(-r*T)*maximum(st-K,0).sum()/N\n",
      "i"
     ],
     "language": "python",
     "metadata": {},
     "outputs": [
      {
       "metadata": {},
       "output_type": "pyout",
       "prompt_number": 178,
       "text": [
        "10.595732845248412"
       ]
      }
     ],
     "prompt_number": 178
    },
    {
     "cell_type": "heading",
     "level": 5,
     "metadata": {},
     "source": [
      "1D Black-Scholes Option FFT"
     ]
    },
    {
     "cell_type": "code",
     "collapsed": false,
     "input": [],
     "language": "python",
     "metadata": {},
     "outputs": [],
     "prompt_number": 149
    },
    {
     "cell_type": "heading",
     "level": 5,
     "metadata": {},
     "source": [
      "1D Black-Scholes Option Exact Solution"
     ]
    },
    {
     "cell_type": "code",
     "collapsed": false,
     "input": [
      "from scipy.stats import norm\n",
      "\n",
      "def european_call_slow(S, K, r, T, sigma):\n",
      "    d1 = (log(S/K)+(r+0.5*sigma*sigma)*T)/(sigma*sqrt(T))\n",
      "    d2 = (log(S/K)+(r-0.5*sigma*sigma)*T)/(sigma*sqrt(T))\n",
      "    return S*norm.cdf(d1)-K*exp(-r*T)*norm.cdf(d2)\n",
      "\n",
      "def european_call_fast(S, K, r, T, sigma):\n",
      "    d1 = (log(S/K)+(r+0.5*sigma*sigma)*T)/(sigma*sqrt(T))\n",
      "    d2 = (log(S/K)+(r-0.5*sigma*sigma)*T)/(sigma*sqrt(T))\n",
      "    return S*norm._cdf(d1)-K*exp(-r*T)*norm._cdf(d2)"
     ],
     "language": "python",
     "metadata": {},
     "outputs": [],
     "prompt_number": 150
    },
    {
     "cell_type": "code",
     "collapsed": false,
     "input": [
      "%timeit european_call_slow(s,K,r,T,sigma)\n",
      "%timeit european_call_fast(s,K,r,T,sigma)"
     ],
     "language": "python",
     "metadata": {},
     "outputs": [
      {
       "output_type": "stream",
       "stream": "stdout",
       "text": [
        "10000 loops, best of 3: 178 \u00b5s per loop\n",
        "10000 loops, best of 3: 50.3 \u00b5s per loop"
       ]
      },
      {
       "output_type": "stream",
       "stream": "stdout",
       "text": [
        "\n"
       ]
      }
     ],
     "prompt_number": 151
    },
    {
     "cell_type": "code",
     "collapsed": false,
     "input": [
      "plot(s,european_call_slow(s,K,r,T,sigma))"
     ],
     "language": "python",
     "metadata": {},
     "outputs": [
      {
       "metadata": {},
       "output_type": "pyout",
       "prompt_number": 152,
       "text": [
        "[<matplotlib.lines.Line2D at 0x7f4050e508d0>]"
       ]
      }
     ],
     "prompt_number": 152
    },
    {
     "cell_type": "heading",
     "level": 5,
     "metadata": {},
     "source": [
      "Compare previous methods"
     ]
    },
    {
     "cell_type": "code",
     "collapsed": false,
     "input": [
      "s_plot = s[1:-1]\n",
      "exact = european_call_slow(s_plot,K,r,T,sigma)\n",
      "plot(s_plot,exact-v1,'r',label='IE')\n",
      "plot(s_plot,exact-v2[-1,:],'b',label='odeint')\n",
      "plot(s_plot,exact-v3,'g',label='ode')\n",
      "\n",
      "legend()"
     ],
     "language": "python",
     "metadata": {},
     "outputs": [
      {
       "metadata": {},
       "output_type": "pyout",
       "prompt_number": 153,
       "text": [
        "<matplotlib.legend.Legend at 0x7f4050e69cd0>"
       ]
      }
     ],
     "prompt_number": 153
    },
    {
     "cell_type": "code",
     "collapsed": false,
     "input": [
      "european_call_fast(100,K,r,T,sigma)"
     ],
     "language": "python",
     "metadata": {},
     "outputs": [
      {
       "metadata": {},
       "output_type": "pyout",
       "prompt_number": 154,
       "text": [
        "10.450583572185565"
       ]
      }
     ],
     "prompt_number": 154
    },
    {
     "cell_type": "heading",
     "level": 5,
     "metadata": {},
     "source": [
      "Frey and Patie"
     ]
    },
    {
     "cell_type": "code",
     "collapsed": false,
     "input": [],
     "language": "python",
     "metadata": {},
     "outputs": []
    },
    {
     "cell_type": "code",
     "collapsed": false,
     "input": [
      "from IPython.core.display import HTML\n",
      "def css_styling():\n",
      "    styles = open(\"./styles/custom.css\", \"r\").read()\n",
      "    return HTML(styles)\n",
      "css_styling()"
     ],
     "language": "python",
     "metadata": {},
     "outputs": [
      {
       "html": [
        "<link href='http://fonts.googleapis.com/css?family=Fenix' rel='stylesheet' type='text/css'>\n",
        "<link href='http://fonts.googleapis.com/css?family=Alegreya+Sans:100,300,400,500,700,800,900,100italic,300italic,400italic,500italic,700italic,800italic,900italic' rel='stylesheet' type='text/css'>\n",
        "<link href='http://fonts.googleapis.com/css?family=Source+Code+Pro:300,400' rel='stylesheet' type='text/css'>\n",
        "<style>\n",
        "    @font-face {\n",
        "        font-family: \"Computer Modern\";\n",
        "        src: url('http://mirrors.ctan.org/fonts/cm-unicode/fonts/otf/cmunss.otf');\n",
        "    }\n",
        "    div.cell{\n",
        "        width:1000px;\n",
        "        margin-right:auto;\n",
        "    }\n",
        "    h1 {\n",
        "        font-family: 'Alegreya Sans', sans-serif;\n",
        "    }\n",
        "    h2 {\n",
        "        font-family: 'Fenix', serif;\n",
        "    }\n",
        "    h3{\n",
        "\tfont-family: 'Fenix', serif;\n",
        "        margin-top:12px;\n",
        "        margin-bottom: 3px;\n",
        "       }\n",
        "    h4{\n",
        "\tfont-family: 'Fenix', serif;\n",
        "       }\n",
        "    h5 {\n",
        "        font-family: 'Alegreya Sans', sans-serif;\n",
        "    }\t   \n",
        "    div.text_cell_render{\n",
        "        font-family: 'Alegreya Sans',Computer Modern, \"Helvetica Neue\", Arial, Helvetica, Geneva, sans-serif;\n",
        "        line-height: 140%;\n",
        "        font-size: 130%;\n",
        "        width:1000px;\n",
        "        margin-right:auto;\n",
        "    }\n",
        "    .CodeMirror{\n",
        "\tfont-size: 120%;\n",
        "\tfont-family: 'Monaco', sans-serif;\n",
        "    }\n",
        "/*      .prompt{\n",
        "        display: None;\n",
        "    }*/\n",
        "    .text_cell_render h1 {\n",
        "        font-weight: 200;\n",
        "        font-size: 50pt;\n",
        "\t\tline-height: 100%;\n",
        "        color:#CD2305;\n",
        "        margin-bottom: 0.5em;\n",
        "        margin-top: 0.5em;\n",
        "        display: block;\n",
        "    }\t\n",
        "    .text_cell_render h5 {\n",
        "        font-weight: 300;\n",
        "        font-size: 16pt;\n",
        "        color: #CD2305;\n",
        "        font-style: italic;\n",
        "        margin-bottom: .5em;\n",
        "        margin-top: 0.5em;\n",
        "        display: block;\n",
        "    }\n",
        "    \n",
        "    .warning{\n",
        "        color: rgb( 240, 20, 20 )\n",
        "        }  \n",
        "</style>\n",
        "<script>\n",
        "    MathJax.Hub.Config({\n",
        "                        TeX: {\n",
        "                           extensions: [\"AMSmath.js\"]\n",
        "                           },\n",
        "                tex2jax: {\n",
        "                    inlineMath: [ ['$','$'], [\"\\\\(\",\"\\\\)\"] ],\n",
        "                    displayMath: [ ['$$','$$'], [\"\\\\[\",\"\\\\]\"] ]\n",
        "                },\n",
        "                displayAlign: 'center', // Change this to 'center' to center equations.\n",
        "                \"HTML-CSS\": {\n",
        "                    styles: {'.MathJax_Display': {\"margin\": 4}}\n",
        "                }\n",
        "        });\n",
        "</script>\n"
       ],
       "metadata": {},
       "output_type": "pyout",
       "prompt_number": 1,
       "text": [
        "<IPython.core.display.HTML at 0x7fc8d4b707d0>"
       ]
      }
     ],
     "prompt_number": 1
    },
    {
     "cell_type": "code",
     "collapsed": false,
     "input": [],
     "language": "python",
     "metadata": {},
     "outputs": []
    }
   ],
   "metadata": {}
  }
 ]
}