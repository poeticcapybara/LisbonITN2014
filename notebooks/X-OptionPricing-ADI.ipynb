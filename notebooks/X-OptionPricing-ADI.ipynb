{
 "metadata": {
  "name": "",
  "signature": "sha256:5c365f8f77acab7e7c6c3b20f95c4adf444a318a38385b51bfa85e17c236cd7d"
 },
 "nbformat": 3,
 "nbformat_minor": 0,
 "worksheets": [
  {
   "cells": [
    {
     "cell_type": "markdown",
     "metadata": {},
     "source": [
      "<a id='Top'></a>"
     ]
    },
    {
     "cell_type": "markdown",
     "metadata": {},
     "source": [
      "#X-OptionPricing\n",
      "\n",
      "\n",
      "Lecturer:*Jos\u00e9 Pedro Silva*<sup>[1](http://www-num.math.uni-wuppertal.de/en/amna/people/jose-pedro-silva.html)</sup> - [silva_at_math.uni-wuppertal.de](mailto:silva_at_math.uni-wuppertal.de)"
     ]
    },
    {
     "cell_type": "markdown",
     "metadata": {},
     "source": [
      "Let's obtain the price of an european call on a stock paying no dividends using three different methods:\n",
      "- 1D\n",
      "   - [PDE](#1dpde)\n",
      "   - [Monte Carlo](#1dmc)\n",
      "   - [Exact Solution](#1dexact)\n",
      "   \n",
      "- Heston\n",
      "   - [PDE](#hestonpde)\n",
      "   - [Monte Carlo](#hestonmc)\n",
      "   - [FFT](#hestonfft)\n",
      "   \n",
      "Let's use the following parameters:"
     ]
    },
    {
     "cell_type": "code",
     "collapsed": false,
     "input": [
      "r = 0.05\n",
      "sigma = 0.2\n",
      "T = 1\n",
      "K = 100\n",
      "S0 = 120"
     ],
     "language": "python",
     "metadata": {},
     "outputs": [],
     "prompt_number": 1
    },
    {
     "cell_type": "markdown",
     "metadata": {},
     "source": [
      "<a id='1dpde'></a>"
     ]
    },
    {
     "cell_type": "heading",
     "level": 5,
     "metadata": {},
     "source": [
      "1D Black-Scholes Option PDE"
     ]
    },
    {
     "cell_type": "markdown",
     "metadata": {},
     "source": [
      "$$ V_t - \\frac{1}{2}\\sigma^2S^2V_{SS}-rSV_S+rV=0$$"
     ]
    },
    {
     "cell_type": "code",
     "collapsed": false,
     "input": [
      "from scipy.sparse import *\n",
      "from scipy.sparse.linalg import spsolve\n",
      "from scipy.sparse import eye as speye\n",
      "from numpy import linspace, ones, array, maximum\n",
      "%pylab\n",
      "\n",
      "nt = 100\n",
      "ns = 1500\n",
      "\n",
      "t,dt = linspace(0,T,nt,retstep=True)\n",
      "s,ds = linspace(0,3*K,ns,retstep=True)\n",
      "\n",
      "e1 = ones(ns)\n",
      "data = array([e1,-2*e1,e1])\n",
      "diags = array([-1,0,1])\n",
      "\n",
      "#second derivative\n",
      "sd = 0.5*sigma**2*spdiags(s**2,0,ns,ns)*spdiags(data,diags,ns,ns)/(ds**2)\n",
      "data = array([-e1,e1])\n",
      "diags = array([-1,1])\n",
      "\n",
      "#first derivative\n",
      "fd = r*spdiags(s,0,ns,ns)*spdiags(data,diags,ns,ns)/(2*ds)\n",
      "\n",
      "#reaction term\n",
      "reac = -r*speye(ns)"
     ],
     "language": "python",
     "metadata": {},
     "outputs": [
      {
       "output_type": "stream",
       "stream": "stdout",
       "text": [
        "Using matplotlib backend: Qt4Agg\n",
        "Populating the interactive namespace from numpy and matplotlib\n"
       ]
      },
      {
       "output_type": "stream",
       "stream": "stderr",
       "text": [
        "WARNING: pylab import has clobbered these variables: ['norm', 'eye', 'rand', 'extract', 'vstack', 'find', 'identity', 'kron', 'hstack', 'tril', 'triu', 'bmat']\n",
        "`%matplotlib` prevents importing * from pylab and numpy\n"
       ]
      }
     ],
     "prompt_number": 12
    },
    {
     "cell_type": "code",
     "collapsed": false,
     "input": [
      "A = sd+fd+reac\n",
      "AA = speye(ns-2)-dt*A[1:-1,1:-1]\n",
      "\n",
      "bc = zeros((ns-2,nt))\n",
      "bc[-1,:] = dt*A[-2,-1]*(s[-1]-K*exp(-r*t))\n",
      "\n",
      "#initial condition\n",
      "v1 = maximum(s[1:-1]-K,0)\n",
      "\n",
      "for i in range(nt-1):\n",
      "    v1 = spsolve(AA,v1+bc[:,i+1])\n",
      "\n",
      "plot(s[1:-1],v1)"
     ],
     "language": "python",
     "metadata": {},
     "outputs": [
      {
       "metadata": {},
       "output_type": "pyout",
       "prompt_number": 13,
       "text": [
        "[<matplotlib.lines.Line2D at 0x7fa0c5abd550>]"
       ]
      }
     ],
     "prompt_number": 13
    },
    {
     "cell_type": "code",
     "collapsed": false,
     "input": [
      "from scipy.integrate import odeint\n",
      "\n",
      "def f_odeint(x,tt, A,s,K,r,coef):\n",
      "    bc = zeros((ns-2))\n",
      "    bc[-1] = coef*(s-K*exp(-r*tt))\n",
      "    return A.dot(x)+bc\n",
      "\n",
      "#ic\n",
      "v2_0 = maximum(s[1:-1]-K,0)\n",
      "\n",
      "AA = A[1:-1,1:-1]\n",
      "v2 = odeint(f_odeint,v2_0,t,(AA,s[-1],K,r,A[-2,-1]))\n",
      "plot(s[1:-1],v2[-1,:])"
     ],
     "language": "python",
     "metadata": {},
     "outputs": [
      {
       "metadata": {},
       "output_type": "pyout",
       "prompt_number": 14,
       "text": [
        "[<matplotlib.lines.Line2D at 0x7fa0c5e14e50>]"
       ]
      }
     ],
     "prompt_number": 14
    },
    {
     "cell_type": "code",
     "collapsed": false,
     "input": [
      "from scipy.integrate import ode\n",
      "\n",
      "def f_ode(t,x,A,s,K,r,coef):\n",
      "    bc = zeros((ns-2))\n",
      "    bc[-1] = coef*(s-K*exp(-r*t))\n",
      "    return A.dot(x)+bc\n",
      "\n",
      "v3_0 = maximum(s[1:-1]-K,0)\n",
      "AA = A[1:-1,1:-1]\n",
      "bs = ode(f_ode).set_f_params(AA,s[-1],K,r,A[-2,-1]).set_initial_value(v3_0,t[0])"
     ],
     "language": "python",
     "metadata": {},
     "outputs": [],
     "prompt_number": 15
    },
    {
     "cell_type": "code",
     "collapsed": false,
     "input": [
      "while bs.successful() and bs.t < t[-1]:\n",
      "    bs.integrate(bs.t+dt)\n",
      "v3 = bs.y\n",
      "plot(s[1:-1],v3)"
     ],
     "language": "python",
     "metadata": {},
     "outputs": [
      {
       "output_type": "stream",
       "stream": "stderr",
       "text": [
        "/home/jpsilva/anaconda/lib/python2.7/site-packages/scipy/integrate/_ode.py:741: UserWarning: vode: Excess work done on this call. (Perhaps wrong MF.)\n",
        "  'Unexpected istate=%s' % istate))\n"
       ]
      },
      {
       "metadata": {},
       "output_type": "pyout",
       "prompt_number": 16,
       "text": [
        "[<matplotlib.lines.Line2D at 0x7fa0c8744d50>]"
       ]
      }
     ],
     "prompt_number": 16
    },
    {
     "cell_type": "markdown",
     "metadata": {},
     "source": [
      "<a id='1dmc'></a>"
     ]
    },
    {
     "cell_type": "heading",
     "level": 5,
     "metadata": {},
     "source": [
      "1D Black-Scholes Option MC"
     ]
    },
    {
     "cell_type": "code",
     "collapsed": false,
     "input": [
      "from scipy.special import erfinv\n",
      "\n",
      "N = 1000000   # number of points\n",
      "\n",
      "def ncfinv(x):\n",
      "    return sqrt(2)*erfinv(2*x-1)\n",
      "\n",
      "def ss(S0,T,u):\n",
      "    a = S0*exp((r-0.5*pow(sigma,2))*T+sigma*sqrt(T)*ncfinv(u))\n",
      "    return a\n",
      "\n",
      "u = random.uniform(0,T,N)\n",
      "st = ss(S0,T,u)\n",
      "i = exp(-r*T)*maximum(st-K,0).sum()/N\n",
      "i"
     ],
     "language": "python",
     "metadata": {},
     "outputs": [
      {
       "metadata": {},
       "output_type": "pyout",
       "prompt_number": 7,
       "text": [
        "26.184950826592701"
       ]
      }
     ],
     "prompt_number": 7
    },
    {
     "cell_type": "markdown",
     "metadata": {},
     "source": [
      "<a id='1dexact'></a>"
     ]
    },
    {
     "cell_type": "heading",
     "level": 5,
     "metadata": {},
     "source": [
      "1D Black-Scholes Option Exact Solution"
     ]
    },
    {
     "cell_type": "code",
     "collapsed": false,
     "input": [
      "from scipy.stats import norm\n",
      "\n",
      "def european_call_slow(S, K, r, T, sigma):\n",
      "    d1 = (log(S/K)+(r+0.5*sigma*sigma)*T)/(sigma*sqrt(T))\n",
      "    d2 = (log(S/K)+(r-0.5*sigma*sigma)*T)/(sigma*sqrt(T))\n",
      "    return S*norm.cdf(d1)-K*exp(-r*T)*norm.cdf(d2)\n",
      "\n",
      "def european_call_fast(S, K, r, T, sigma):\n",
      "    d1 = (log(S/K)+(r+0.5*sigma*sigma)*T)/(sigma*sqrt(T))\n",
      "    d2 = (log(S/K)+(r-0.5*sigma*sigma)*T)/(sigma*sqrt(T))\n",
      "    return S*norm._cdf(d1)-K*exp(-r*T)*norm._cdf(d2)"
     ],
     "language": "python",
     "metadata": {},
     "outputs": [],
     "prompt_number": 18
    },
    {
     "cell_type": "code",
     "collapsed": false,
     "input": [
      "%timeit european_call_slow(s,K,r,T,sigma)\n",
      "%timeit european_call_fast(s,K,r,T,sigma)"
     ],
     "language": "python",
     "metadata": {},
     "outputs": [
      {
       "output_type": "stream",
       "stream": "stdout",
       "text": [
        "10000 loops, best of 3: 175 \u00b5s per loop\n",
        "10000 loops, best of 3: 47.5 \u00b5s per loop"
       ]
      },
      {
       "output_type": "stream",
       "stream": "stdout",
       "text": [
        "\n"
       ]
      },
      {
       "output_type": "stream",
       "stream": "stderr",
       "text": [
        "-c:9: RuntimeWarning: divide by zero encountered in log\n",
        "-c:10: RuntimeWarning: divide by zero encountered in log\n"
       ]
      }
     ],
     "prompt_number": 8
    },
    {
     "cell_type": "code",
     "collapsed": false,
     "input": [
      "plot(s,european_call_slow(s,K,r,T,sigma))"
     ],
     "language": "python",
     "metadata": {},
     "outputs": [
      {
       "metadata": {},
       "output_type": "pyout",
       "prompt_number": 19,
       "text": [
        "[<matplotlib.lines.Line2D at 0x7fa0c5a71390>]"
       ]
      }
     ],
     "prompt_number": 19
    },
    {
     "cell_type": "heading",
     "level": 5,
     "metadata": {},
     "source": [
      "Compare previous methods"
     ]
    },
    {
     "cell_type": "code",
     "collapsed": false,
     "input": [
      "s_plot = s[1:-1]\n",
      "exact = european_call_slow(s_plot,K,r,T,sigma)\n",
      "plot(s_plot,exact-v1,'r',label='IE')\n",
      "plot(s_plot,exact-v2[-1,:],'b',label='odeint')\n",
      "# plot(s_plot,exact-v3,'g',label='ode')\n",
      "\n",
      "legend()"
     ],
     "language": "python",
     "metadata": {},
     "outputs": [
      {
       "metadata": {},
       "output_type": "pyout",
       "prompt_number": 22,
       "text": [
        "<matplotlib.legend.Legend at 0x7fa0c4e23510>"
       ]
      }
     ],
     "prompt_number": 22
    },
    {
     "cell_type": "code",
     "collapsed": false,
     "input": [
      "european_call_fast(100,K,r,T,sigma)"
     ],
     "language": "python",
     "metadata": {},
     "outputs": [
      {
       "metadata": {},
       "output_type": "pyout",
       "prompt_number": 154,
       "text": [
        "10.450583572185565"
       ]
      }
     ],
     "prompt_number": 154
    },
    {
     "cell_type": "heading",
     "level": 3,
     "metadata": {},
     "source": [
      "Heston Model"
     ]
    },
    {
     "cell_type": "markdown",
     "metadata": {},
     "source": [
      "<center> $ dS = \\mu Sdt+\\sqrt{\\nu} Sd\\mathcal{W}^S_t $ </center>\n",
      "<center> $ d\\nu = \\kappa(\\theta -\\nu )dt + \\omega\\sqrt{\\nu}d\\mathcal{W}^{\\nu}_t $ </center>\n",
      "<center> $ d\\mathcal{W}^{\\nu}_td\\mathcal{W}^{S}_t = \\rho dt $ </center>"
     ]
    },
    {
     "cell_type": "markdown",
     "metadata": {},
     "source": [
      "<a id='hestonpde'></a>"
     ]
    },
    {
     "cell_type": "heading",
     "level": 5,
     "metadata": {},
     "source": [
      "Heston Model PDE (ADI)"
     ]
    },
    {
     "cell_type": "markdown",
     "metadata": {},
     "source": [
      "<center> $ \\frac{\\partial V(t,\\nu,S)}{\\partial t} = -\\frac{1}{2}\\nu S^2\\frac{\\partial ^2V(t,\\nu,S)}{\\partial S^2}-\\rho \\omega\\nu S\\frac{\\partial^2V}{\\partial\\nu\\partial S}-\\frac{1}{2}\\omega ^2\\nu\\frac{\\partial ^2V(t,\\nu,S)}{\\partial \\nu^2}-rS\\frac{\\partial V(t,\\nu,S)}{\\partial S}-\\kappa (\\theta - \\nu)\\frac{\\partial V}{\\partial \\nu}+rV(t,\\nu,S)$</center>"
     ]
    },
    {
     "cell_type": "code",
     "collapsed": false,
     "input": [
      "K = 100\n",
      "T =1 \n",
      "theta = 0.02\n",
      "kappa = 6.02 \n",
      "rd = 0.02\n",
      "rf = 0.04\n",
      "rho = 0\n",
      "sigma = 0.49\n",
      "m1 = 40\n",
      "B = 0\n",
      "i1lim = 6\n",
      "j2lim = 1\n",
      "params = {}\n",
      "params['m1'] = array([m1])\n",
      "params['B'] = array([B])\n",
      "params['i1lim'] = array([i1lim])\n",
      "params['j2lim'] = array([j2lim])"
     ],
     "language": "python",
     "metadata": {},
     "outputs": [],
     "prompt_number": 127
    },
    {
     "cell_type": "code",
     "collapsed": false,
     "input": [
      "__author__ = 'Karel Int Hout'\n",
      "\n",
      "from numpy import maximum, linspace, hstack, arcsinh, sinh, concatenate, append, arange, where, vstack, \\\n",
      "    ones, zeros, meshgrid, array, empty, exp\n",
      "from scipy.sparse import spdiags\n",
      "from scipy.sparse import eye as speye\n",
      "from scipy.sparse import kron as spkron\n",
      "\n",
      "from matplotlib.pyplot import *\n",
      "from mpl_toolkits.mplot3d import Axes3D\n",
      "\n",
      "__author__ = 'jpsilva'\n",
      "\n",
      "from numpy import zeros, identity, diff, exp, copy, array\n",
      "import numpy.linalg\n",
      "from scipy.sparse.linalg import spsolve, splu\n",
      "from scipy.sparse import identity as spidentity\n",
      "from scipy.sparse import issparse, csc_matrix\n",
      "from scipy.integrate import ode, odeint\n",
      "\n",
      "from matplotlib.pyplot import *\n",
      "import matplotlib as mpl\n",
      "\n",
      "\n",
      "def spMCS(u, dt, L, A, A0, bl, BCl, br, BCr, theta):\n",
      "    \"\"\"\n",
      "    Modified Craig-Sneyd (Sparse Implementation)\n",
      "    :param u:\n",
      "    :param dt:\n",
      "    :param L:\n",
      "    :param A:\n",
      "    :param A0:\n",
      "    :param bl:\n",
      "    :param BCl:\n",
      "    :param br:\n",
      "    :param BCr:\n",
      "    :param theta:\n",
      "    \"\"\"\n",
      "    bl = array(bl).ravel()\n",
      "    br = array(br).ravel()\n",
      "    u = u.ravel()\n",
      "    z0 = dt*(A.dot(u)+bl)\n",
      "    z = copy(z0)\n",
      "    for i, iL in enumerate(L):\n",
      "        z = iL.solve(z+(theta*dt)*(BCr[i+1]-BCl[i+1]))\n",
      "    z = z0+(theta*dt)*(A0.dot(z)+BCr[0]-BCl[0])+((1./2-theta)*dt)*(A.dot(z)+br-bl)\n",
      "    for i, iL in enumerate(L):\n",
      "        z = iL.solve(z+(theta*dt)*(BCr[i+1]-BCl[i+1]))\n",
      "    u = u+z\n",
      "    return u.reshape(-1, 1)\n",
      "\n",
      "def ADI(a0, t, f_args, theta=1./3):\n",
      "    \"\"\"\n",
      "     Alternating Direction Implicit Integrator\n",
      "\n",
      "    Parameters\n",
      "    ----------\n",
      "    :param a0:\n",
      "    :param t:\n",
      "    :param A:\n",
      "    :param bc:\n",
      "    :param params:\n",
      "    :param theta:\n",
      "    a0 : array_like\n",
      "         Initial condition on y (can be a vector).\n",
      "    t : array\n",
      "        A sequence of time points for which to solve for y.  The initial\n",
      "        value point should be the first element of this sequence.\n",
      "    A : list\n",
      "        A list containing the different splitting operators\n",
      "    bc : list\n",
      "        A list containing the different splitted boundary conditions\n",
      "    params : dict, optional\n",
      "        Dictionary containing the necessary params for the problem, optional\n",
      "    theta : float, optional\n",
      "        Theta parameter of ADI\n",
      "        Default: 1/3\n",
      "\n",
      "    Returns\n",
      "    -------\n",
      "    a_t : array, shape (len(t), len(a))\n",
      "        Array containing the value of a for each desired time in t,\n",
      "        with the initial value `a0` in the first row.\n",
      "    \"\"\"\n",
      "\n",
      "    A, x, params, B, bc, f_src, y_src, yt_src, bc_src = f_args\n",
      "\n",
      "    dt, nt = diff(t)[0], t.shape[0]\n",
      "    a_t = zeros((nt, A[0].shape[0]))\n",
      "    a_t[0, :] = copy(a0.ravel())\n",
      "\n",
      "    Asum = A[0]\n",
      "    bcsum = bc[0]\n",
      "    L = []\n",
      "    I = spidentity(A[0].shape[0], format='csc')\n",
      "    for i, iA in enumerate(A[1:]):\n",
      "        Asum = Asum + iA\n",
      "        L.append(splu(I-(theta*dt)*iA))\n",
      "        bcsum = bcsum + bc[i+1]\n",
      "    k = 1\n",
      "    for i, ibc in enumerate(bc):\n",
      "        bc[i] = array(ibc).ravel()\n",
      "\n",
      "    BCl = bc\n",
      "    bcl = bcsum\n",
      "    rf = params['rf'].squeeze()\n",
      "\n",
      "    damp = 0\n",
      "    if damp == 1:\n",
      "        dt2 = dt/2.\n",
      "        Le = splu(I-dt2*Asum)\n",
      "        df = exp(-rf*dt2)\n",
      "        a = Le.solve(a0.ravel()+dt2*df*bcsum)\n",
      "        df = exp(-rf*dt)\n",
      "        a = Le.solve(a+dt2*df*bcsum).reshape(-1, 1)\n",
      "        a_t[1, ...] = copy(a.ravel())\n",
      "        k = 2\n",
      "        bcl = df*bcsum\n",
      "        BCl = [df*iBC for iBC in bc]\n",
      "    for n in range(k, nt):\n",
      "        df = exp(-rf*n*dt)\n",
      "        bcr = df*bcsum\n",
      "        BCr = [df*iBC for iBC in bc]\n",
      "        a0 = spMCS(a0, dt, L, Asum, A[0], bcl, BCl, bcr, BCr, theta)\n",
      "        bcl = bcr\n",
      "        BCl = BCr\n",
      "        a_t[n, ...] = copy(a0.ravel())\n",
      "    return a_t\n",
      "\n",
      "def Solver(f, a0, t, f_args, method='ADI', order=None, atol=None, rtol=None, theta=0.5, fulltime=None):\n",
      "    \"\"\"\n",
      "\n",
      "    :param f:\n",
      "    :param a0:\n",
      "    :param t:\n",
      "    :param f_args:\n",
      "    :param method:\n",
      "    :param order:\n",
      "    :param atol:\n",
      "    :param rtol:\n",
      "    :param theta:\n",
      "    :param fulltime:\n",
      "    Solver for (linear) system of ode:\n",
      "    \"\"\"\n",
      "\n",
      "    a_0 = copy(a0.ravel())\n",
      "    bc = f_args[4]\n",
      "    y_fun = f_args[6]\n",
      "\n",
      "    if method == 'ADI':\n",
      "        ret = ADI(a_0, t, f_args)\n",
      "    else:\n",
      "        raise 'Invalid method. Only ADI is available'\n",
      "    return ret\n",
      "\n",
      "def gen_matrices(params, i1lim, j2lim):\n",
      "\n",
      "    kappa = params['kappa'].squeeze()\n",
      "    eta = params['eta'].squeeze()\n",
      "    sigma = params['sigma'].squeeze()\n",
      "    rho = params['rho'].squeeze()\n",
      "    rd = params['rd'].squeeze()\n",
      "    rf = params['rf'].squeeze()\n",
      "    K = params['K'].squeeze()\n",
      "    B = params['B'].squeeze()\n",
      "    T = params['T'].squeeze()\n",
      "    m1 = params['m1'].squeeze()\n",
      "\n",
      "    if B == 0:\n",
      "        Smax = 30*K\n",
      "    else:\n",
      "        Smax = 90*K\n",
      "    M1 = m1+1\n",
      "    Vmax = 15.\n",
      "    m2 = int(round(m1/2.)-1)\n",
      "    M2 = m2+1\n",
      "    N = m2\n",
      "    dt = T/N\n",
      "    c = K/10.\n",
      "    # Sleft = max(B, max(0.5, exp(-0.1*T))*K)\n",
      "    # Sright = min(1.5, exp(0.1*T))*K\n",
      "    Sleft = 0.8*K\n",
      "    Sright = 1.5*K\n",
      "    xmin = arcsinh((B-Sleft)/c)\n",
      "    xint = (Sright-Sleft)/c\n",
      "    xmax = xint + arcsinh((Smax-Sright)/c)\n",
      "    x = linspace(xmin, xmax, M1)\n",
      "    x1 = x[x <= 0]\n",
      "    x2 = x[(0 < x) & (x < xint)]\n",
      "    x3 = x[x >= xint]\n",
      "    s1 = Sleft + sinh(x1)*c\n",
      "    s2 = Sleft + x2*c\n",
      "    s3 = Sright + sinh(x3-xint)*c\n",
      "    s = hstack((s1, hstack((s2, s3))))\n",
      "    s = maximum(s, B)\n",
      "    d = Vmax/500.\n",
      "    ymax = arcsinh(Vmax/d)\n",
      "    y = linspace(0, ymax, M2)\n",
      "    v = d*sinh(y)\n",
      "    v = maximum(v, 0)\n",
      "    i1 = where((s < i1lim*K) & (s != 0))[0][-1]\n",
      "    j2 = where((v < j2lim) & (v != 0))[0][-1]+1\n",
      "    ii = arange(1, M1)\n",
      "    jj = arange(0, m2)\n",
      "    mi = max(ii.shape)\n",
      "    mj = max(jj.shape)\n",
      "    Xt = spdiags(s.T, 0, M1, M1)\n",
      "    Yt = spdiags(v.T, 0, M2, M2)\n",
      "    X = Xt.tolil()[1:M1, 1:M1]\n",
      "    Y = Yt.tolil()[0:m2, 0:m2]\n",
      "    S, V = meshgrid(s, v)\n",
      "    S = S.T\n",
      "    V = V.T\n",
      "    ds = s[1:m1+1]-s[0:m1]\n",
      "    u = maximum(S-K, 0)\n",
      "    ind = where((s > K) & (s != 0))[0][0]\n",
      "    if abs(s[ind]-K) > abs(s[ind-1]-K):\n",
      "        ind = ind-1\n",
      "    sl = (s[ind-1]+s[ind])/2\n",
      "    sr = (s[ind]+s[ind+1])/2\n",
      "    u[ind, :] = 0.5*(sr-K)**2/(sr-sl)\n",
      "    u = u[1:M1, 0:m2]\n",
      "    u = u.reshape(-1, 1, order='F')\n",
      "    G = zeros((M1, M2))\n",
      "    G[:, M2-1] = (s-B).T\n",
      "    ds = (s[1:m1+1]-s[0:m1]).T\n",
      "    hh = ds[0:m1-1]+ds[1:m1]\n",
      "    betsl = -ds[1:m1]/(ds[0:m1-1]*hh)\n",
      "    betsp = ds[0:m1-1]/(ds[1:m1]*hh)\n",
      "    betsm = -betsl-betsp\n",
      "    delsl = 2./(ds[0:m1-1]*hh)\n",
      "    delsp = 2./(ds[1:m1]*hh)\n",
      "    delsm = -delsl-delsp\n",
      "    betsl = append(betsl, [0, 0])\n",
      "    betsm = concatenate(([0], append(betsm, [0])))\n",
      "    betsp = concatenate(([0, 0], betsp))\n",
      "    delsl = append(delsl, [0, 0])\n",
      "    delsm = concatenate(([0], append(delsm, [0])))\n",
      "    delsp = concatenate(([0, 0], delsp))\n",
      "    dv = (v[1:m2+1]-v[0:m2]).T\n",
      "    hh = dv[0:m2-1]+dv[1:m2]\n",
      "    betvl = -dv[1:m2]/(dv[0:m2-1]*hh)\n",
      "    betvp = dv[0:m2-1]/(dv[1:m2]*hh)\n",
      "    betvm = -betvl-betvp\n",
      "    alpvk = -betvl\n",
      "    alpvl = -hh/(dv[0:m2-1]*dv[1:m2])\n",
      "    alpvm = -alpvk-alpvl\n",
      "    delvl = 2./(dv[0:m2-1]*hh)\n",
      "    delvp = 2./(dv[1:m2]*hh)\n",
      "    delvm = -delvl-delvp\n",
      "    alpvk = append(alpvk, [0, 0])\n",
      "    alpvl = concatenate(([0], append( alpvl, [0])))\n",
      "    alpvm = concatenate(([0, 0], alpvm))\n",
      "    betvl = append(betvl, [0, 0])\n",
      "    betvm = concatenate(([0], append(betvm, [0])))\n",
      "    betvp = concatenate(([0, 0], betvp))\n",
      "    delvl = append(delvl, [0, 0])\n",
      "    delvm = concatenate(([0], append(delvm, [0])))\n",
      "    delvp = concatenate(([0, 0], delvp))\n",
      "    ev = ones((M2, 1))\n",
      "    Dst = spdiags(vstack((betsl, vstack((betsm, betsp)))), [-1, 0, 1], M1, M1).tolil()\n",
      "    Dst[M1-1, :] = 0\n",
      "    Dvc = spdiags(vstack((betvl, vstack((betvm, betvp)))), [-1, 0, 1], M2, M2).tolil()\n",
      "    Dvb = spdiags(vstack((alpvk, vstack((alpvl, alpvm)))), [-2, -1, 0], M2, M2).tolil()\n",
      "    Dvt = Dvb\n",
      "    Dvt[0:j2, :] = Dvc[0:j2, :]\n",
      "    Dvt[0, :] = 0\n",
      "    Dvt[0, 0] = -(2*dv[0]+dv[1])/(dv[0]*(dv[0]+dv[1]))\n",
      "    Dvt[0, 1] = (dv[0]+dv[1])/(dv[0]*dv[1])\n",
      "    Dvt[0, 2] = -dv[0]/(dv[1]*(dv[0]+dv[1]))\n",
      "    Dsst = spdiags([delsl, delsm, delsp], [-1, 0, 1], M1, M1).tolil()\n",
      "    Dsst[M1-1, :] = 0\n",
      "    Dsst[M1-1, M1-2] = 2/(ds[m1-1]**2)\n",
      "    Dsst[M1-1, M1-1] = -2/(ds[m1-1]**2)\n",
      "    Dst[0, :] = 0\n",
      "    Dst[0, 0] = -(2*ds[0]+ds[1])/(ds[0]*(ds[0]+ds[1]))\n",
      "    Dst[0, 1] = (ds[0]+ds[1])/(ds[0]*ds[1])\n",
      "    Dst[0, 2] = -ds[0]/(ds[1]*(ds[0]+ds[1]))\n",
      "    Dsst[0, :] = 0\n",
      "    Dsst[0, 0] = 2/(ds[0]*(ds[0]+ds[1]))\n",
      "    Dsst[0, 1] = -2/(ds[0]*ds[1])\n",
      "    Dsst[0, 2] = 2/(ds[1]*(ds[0]+ds[1]))\n",
      "    Dvvt = spdiags([delvl, delvm, delvp], [-1, 0, 1], M2, M2, format='lil')   # Cuidado com esta matrix\n",
      "    Dsmt = spdiags([betsl, betsm, betsp], [-1, 0, 1], M1, M1, format='lil')\n",
      "    Dvmt = spdiags([betvl, betvm, betvp], [-1, 0, 1], M2, M2, format='lil')\n",
      "    Dsmt[M1-1, :] = 0\n",
      "    Ds = Dst[1:M1, 1:M1]\n",
      "    Dv = Dvt[0:m2, 0:m2]\n",
      "    Dss = Dsst[1:M1, 1:M1]\n",
      "    Dvv = Dvvt[0:m2, 0:m2]\n",
      "    Dsm = Dsmt[1:M1, 1:M1]\n",
      "    Dvm = Dvmt[0:m2, 0:m2]\n",
      "    E = 0*speye(M1, M2).tolil()\n",
      "    E[M1-1, :] = ev.ravel()\n",
      "    Is = speye(mi, mi, format='csc')\n",
      "    Iv = speye(mj, mj, format='csc')\n",
      "    Ivt = speye(M2, M2, format='csc')\n",
      "    mij = mi*mj\n",
      "    I = speye(mij, mij, format='csc')\n",
      "    A0 = spkron((rho*sigma*Y.dot(Dvm)), (X.dot(Dsm)), format='csc')\n",
      "    g0 = (rho*sigma)*Xt*Dsmt*G*(Dvmt.T)*Yt\n",
      "    g0 = g0[1:M1, 0:m2]\n",
      "    g0 = g0.reshape(-1, 1, order='F')\n",
      "    A1 = spkron(Y, 0.5*X*X*Dss, format='csc')+spkron(Iv, (rd-rf)*X*Ds, format='csc')-(0.5*rd)*I\n",
      "    g1 = 0.5*Xt*Xt*(Dsst*G+(2./ds[m1-1])*E)*Yt\n",
      "    g1 = array(g1 + (rd-rf)*Xt*(Dst*G+E))\n",
      "    g1 = g1[1:M1, 0:m2]\n",
      "    g1 = g1.reshape(-1, 1, order='F')\n",
      "    A2 = spkron((0.5*sigma**2)*Y*Dvv+kappa*(eta*Iv-Y)*Dv, Is, format='csc')-(0.5*rd)*I\n",
      "    g2 = (0.5*sigma**2)*G*(Dvvt.T)*Yt\n",
      "    g2 = g2 + kappa*G*(Dvt.T)*(eta*Ivt-Yt)\n",
      "    g2 = g2[1:M1, 0:m2]\n",
      "    g2 = g2.reshape(-1, 1, order='F')\n",
      "\n",
      "    A = [A0, A1, A2]\n",
      "    g = [g0, g1, g2]\n",
      "\n",
      "    return A, g, u, S, V, M1, M2, m1, m2, mi, mj, i1, j2, Dst, Dsst, Dvt\n",
      "\n",
      "\n",
      "def HestonADI(params, t, fulltime=None, full_matrices=None, derivs=None):\n",
      "\n",
      "    i1lim = params['i1lim'].squeeze()\n",
      "    j2lim = params['j2lim'].squeeze()\n",
      "    nt = t.shape[0]\n",
      "\n",
      "    A, g, u, S, V, M1, M2, m1, m2, mi, mj, i1, j2, Dst, Dsst, Dvt = gen_matrices(params, i1lim, j2lim)\n",
      "\n",
      "    f = lambda x: x\n",
      "    u = Solver(f, u, t, (A, None, params, None, g, None, None, None, None), method='ADI').T\n",
      "    U = zeros((M1, M2, nt))\n",
      "    U[1:M1, 0:m2, ...] = array(u).reshape(mi, mj, -1, order='F')\n",
      "    Delta, Gamma, Vega = [empty(U.shape) for i in range(3)]\n",
      "    if derivs is not None:\n",
      "        for i in range(U.shape[-1]):\n",
      "            Delta[..., i] = Dst.dot(U[..., i])\n",
      "            Gamma[..., i] = Dsst.dot(U[..., i])\n",
      "            Vega[..., i] = U[..., i]*Dvt.T\n",
      "\n",
      "    if full_matrices is None:\n",
      "        S = S[:i1, :j2, ...]\n",
      "        V = V[:i1, :j2, ...]\n",
      "        U = U[:i1, :j2, ...]\n",
      "        Delta = Delta[:i1, :j2, ...]\n",
      "        Gamma = Gamma[:i1, :j2, ...]\n",
      "        Vega = Vega[:i1, :j2, ...]\n",
      "    if fulltime is None:\n",
      "        U = U[..., -1]\n",
      "        Delta = Delta[..., -1]\n",
      "        Gamma = Gamma[..., -1]\n",
      "        Vega = Vega[..., -1]\n",
      "    return S, V, U, Delta, Gamma, Vega, i1, j2, u\n",
      "\n",
      "\n",
      "if __name__ == '__main__':\n",
      "    from scipy.io import loadmat\n",
      "\n",
      "    params = loadmat('HestonADI_params.mat')\n",
      "    params['case'] = 3\n",
      "    m1 = 49\n",
      "    B = 0\n",
      "    i1lim = 6\n",
      "    j2lim = 0.9\n",
      "    params['m1'] = array([m1])\n",
      "    params['B'] = array([B])\n",
      "    params['i1lim'] = array([i1lim])\n",
      "    params['j2lim'] = array([j2lim])\n",
      "    T = params['T'].squeeze()\n",
      "    m2 = int(round(m1/2.)-1)\n",
      "    N = 100\n",
      "    t = linspace(0, T, N)\n",
      "\n",
      "    results = HestonADI(params, t,1)\n",
      "    S, V, U, _, _, _, i1, j2, _ = results\n",
      "\n",
      "    S = S[:i1, :j2]\n",
      "    V = V[:i1, :j2]\n",
      "    U = U[:i1, :j2, -1]\n",
      "    \n",
      "    rstrides=1\n",
      "    cstrides=1\n",
      "    cmap = cm.coolwarm\n",
      "    lw = 0.5\n",
      "    fig, ax = subplots(subplot_kw=dict(projection='3d'))\n",
      "    ax.plot_surface(S, V, U, rstride=rstrides, cstride=cstrides, cmap=cmap, linewidth=lw)\n",
      "    ax.set_xlabel(r'$S$')\n",
      "    ax.set_ylabel(r'$V$')\n",
      "    ax.set_title('Option value under Heston dynamics', fontsize=14)\n",
      "    ax.view_init(elev=30, azim=-120)\n",
      "    show()"
     ],
     "language": "python",
     "metadata": {},
     "outputs": [
      {
       "ename": "ImportError",
       "evalue": "No module named scipy.sparse",
       "output_type": "pyerr",
       "traceback": [
        "\u001b[1;31m---------------------------------------------------------------------------\u001b[0m\n\u001b[1;31mImportError\u001b[0m                               Traceback (most recent call last)",
        "\u001b[1;32m<ipython-input-1-ef3dc69a68ce>\u001b[0m in \u001b[0;36m<module>\u001b[1;34m()\u001b[0m\n\u001b[0;32m      2\u001b[0m \u001b[1;33m\u001b[0m\u001b[0m\n\u001b[0;32m      3\u001b[0m \u001b[1;32mfrom\u001b[0m \u001b[0mnumpy\u001b[0m \u001b[1;32mimport\u001b[0m \u001b[0mmaximum\u001b[0m\u001b[1;33m,\u001b[0m \u001b[0mlinspace\u001b[0m\u001b[1;33m,\u001b[0m \u001b[0mhstack\u001b[0m\u001b[1;33m,\u001b[0m \u001b[0marcsinh\u001b[0m\u001b[1;33m,\u001b[0m \u001b[0msinh\u001b[0m\u001b[1;33m,\u001b[0m \u001b[0mconcatenate\u001b[0m\u001b[1;33m,\u001b[0m \u001b[0mappend\u001b[0m\u001b[1;33m,\u001b[0m \u001b[0marange\u001b[0m\u001b[1;33m,\u001b[0m \u001b[0mwhere\u001b[0m\u001b[1;33m,\u001b[0m \u001b[0mvstack\u001b[0m\u001b[1;33m,\u001b[0m     \u001b[0mones\u001b[0m\u001b[1;33m,\u001b[0m \u001b[0mzeros\u001b[0m\u001b[1;33m,\u001b[0m \u001b[0mmeshgrid\u001b[0m\u001b[1;33m,\u001b[0m \u001b[0marray\u001b[0m\u001b[1;33m,\u001b[0m \u001b[0mempty\u001b[0m\u001b[1;33m,\u001b[0m \u001b[0mexp\u001b[0m\u001b[1;33m\u001b[0m\u001b[0m\n\u001b[1;32m----> 4\u001b[1;33m \u001b[1;32mfrom\u001b[0m \u001b[0mscipy\u001b[0m\u001b[1;33m.\u001b[0m\u001b[0msparse\u001b[0m \u001b[1;32mimport\u001b[0m \u001b[0mspdiags\u001b[0m\u001b[1;33m\u001b[0m\u001b[0m\n\u001b[0m\u001b[0;32m      5\u001b[0m \u001b[1;32mfrom\u001b[0m \u001b[0mscipy\u001b[0m\u001b[1;33m.\u001b[0m\u001b[0msparse\u001b[0m \u001b[1;32mimport\u001b[0m \u001b[0meye\u001b[0m \u001b[1;32mas\u001b[0m \u001b[0mspeye\u001b[0m\u001b[1;33m\u001b[0m\u001b[0m\n\u001b[0;32m      6\u001b[0m \u001b[1;32mfrom\u001b[0m \u001b[0mscipy\u001b[0m\u001b[1;33m.\u001b[0m\u001b[0msparse\u001b[0m \u001b[1;32mimport\u001b[0m \u001b[0mkron\u001b[0m \u001b[1;32mas\u001b[0m \u001b[0mspkron\u001b[0m\u001b[1;33m\u001b[0m\u001b[0m\n",
        "\u001b[1;31mImportError\u001b[0m: No module named scipy.sparse"
       ]
      }
     ],
     "prompt_number": 1
    },
    {
     "cell_type": "code",
     "collapsed": false,
     "input": [
      "from scipy.interpolate import RectBivariateSpline"
     ],
     "language": "python",
     "metadata": {},
     "outputs": [],
     "prompt_number": 12
    },
    {
     "cell_type": "code",
     "collapsed": false,
     "input": [
      "rstrides=1\n",
      "cstrides=1\n",
      "cmap = cm.coolwarm\n",
      "lw = 0.5\n",
      "fig, ax = subplots(subplot_kw=dict(projection='3d'))\n",
      "ax.plot_surface(S, V, U, rstride=rstrides, cstride=cstrides, cmap=cmap, linewidth=lw)\n",
      "ax.set_xlabel(r'$S$')\n",
      "ax.set_ylabel(r'$V$')\n",
      "ax.set_title('Option value under Heston dynamics', fontsize=14)\n",
      "ax.view_init(elev=30, azim=-120)\n",
      "show()"
     ],
     "language": "python",
     "metadata": {},
     "outputs": [
      {
       "output_type": "stream",
       "stream": "stderr",
       "text": [
        "/home/jpsilva/anaconda/lib/python2.7/site-packages/mpl_toolkits/mplot3d/axes3d.py:1094: FutureWarning: comparison to `None` will result in an elementwise object comparison in the future.\n",
        "  if self.button_pressed in self._rotate_btn:\n"
       ]
      }
     ],
     "prompt_number": 18
    },
    {
     "cell_type": "code",
     "collapsed": false,
     "input": [
      "s = S[:,0]\n",
      "v = V[0,:]\n",
      "NumericHeston = RectBivariateSpline(s,v,U)\n",
      "NumericHeston.__call__(100,0.5)"
     ],
     "language": "python",
     "metadata": {},
     "outputs": [
      {
       "metadata": {},
       "output_type": "pyout",
       "prompt_number": 16,
       "text": [
        "array([[ 51.01347346]])"
       ]
      }
     ],
     "prompt_number": 16
    },
    {
     "cell_type": "markdown",
     "metadata": {},
     "source": [
      "<a id='hestonfft'></a>"
     ]
    },
    {
     "cell_type": "heading",
     "level": 5,
     "metadata": {},
     "source": [
      "Heston Model FFT"
     ]
    },
    {
     "cell_type": "code",
     "collapsed": false,
     "input": [
      "import numpy.fft as npfft\n",
      "import numpy as np\n",
      "%pylab\n",
      "\n",
      "def HestonCallFft(kappa,theta,sigma,rho,r,v0,s0,strike,T):\n",
      "    x0 = log(s0)\n",
      "    alpha = 1.25\n",
      "    N= 4096.\n",
      "    c = 600.\n",
      "    eta = c/N\n",
      "    b =pi/eta\n",
      "    u = arange(0,N)*eta\n",
      "    lamb = 2*b/N\n",
      "    position = (log(strike) + b)/lamb + 1 #position of call\n",
      "    #value in FFT\n",
      "    #matrix\n",
      "    v = u - (alpha+1)*1j\n",
      "    zeta = -0.5*(v**2 +1j*v)\n",
      "    gamma = kappa - rho*sigma*v*1j\n",
      "    PHI = sqrt(gamma**2 - 2*sigma**2*zeta)\n",
      "    A = 1j*v*(x0 + r*T)\n",
      "    B = v0*((2*zeta*(1-exp(-PHI*T)))/(2*PHI - (PHI-gamma)*(1-exp(-PHI*T))))\n",
      "    C = -kappa*theta/sigma**2*(2*log((2*PHI - (PHI-gamma)*(1-exp(-PHI*T)))/(2*PHI))+(PHI-gamma)*T)\n",
      "    charFunc = exp(A + B + C)\n",
      "    ModifiedCharFunc = charFunc*exp(-r*T)/(alpha**2+ alpha - u**2 + 1j*(2*alpha +1)*u)\n",
      "    SimpsonW = 1./3*(3. + (-1j)**arange(1,N+1) - insert(zeros((1,N-1)),0,1))\n",
      "    FftFunc = exp(1j*b*u)*ModifiedCharFunc*eta*SimpsonW\n",
      "    payoff = np.real(npfft.fft(FftFunc))\n",
      "    CallValueM = exp(-log(strike)*alpha)*payoff/pi\n",
      "    return CallValueM[round(position)-1]"
     ],
     "language": "python",
     "metadata": {},
     "outputs": [
      {
       "output_type": "stream",
       "stream": "stdout",
       "text": [
        "Using matplotlib backend: Qt4Agg\n",
        "Populating the interactive namespace from numpy and matplotlib\n"
       ]
      }
     ],
     "prompt_number": 11
    },
    {
     "cell_type": "code",
     "collapsed": false,
     "input": [
      "HCFFT = np.vectorize(HestonCallFft)\n",
      "N1 = 50\n",
      "N2 = 50\n",
      "ExactSol = zeros((N1,N2))\n",
      "x1 = linspace(0.1,1,N1)\n",
      "x2 = linspace(50,200,N2)\n",
      "X1, X2 = meshgrid(x1,x2)\n",
      "for i,val in enumerate(x1):\n",
      "    ExactSol[i,:] = HCFFT(kappa,theta,sigma,rho,rf,val,x2,K,T)\n",
      "    if i % 10 == 0: print i"
     ],
     "language": "python",
     "metadata": {},
     "outputs": [
      {
       "output_type": "stream",
       "stream": "stdout",
       "text": [
        "0\n",
        "10"
       ]
      },
      {
       "output_type": "stream",
       "stream": "stdout",
       "text": [
        "\n",
        "20"
       ]
      },
      {
       "output_type": "stream",
       "stream": "stdout",
       "text": [
        "\n",
        "30"
       ]
      },
      {
       "output_type": "stream",
       "stream": "stdout",
       "text": [
        "\n",
        "40"
       ]
      },
      {
       "output_type": "stream",
       "stream": "stdout",
       "text": [
        "\n"
       ]
      }
     ],
     "prompt_number": 13
    },
    {
     "cell_type": "code",
     "collapsed": false,
     "input": [
      "from mpl_toolkits.mplot3d import Axes3D\n",
      "fig = plt.figure()\n",
      "ax = fig.add_subplot(111, projection='3d')\n",
      "ax.plot_surface(X1, X2, ExactSol.T,cstride=1,rstride=1)\n",
      "title('Exact Solution Heston')"
     ],
     "language": "python",
     "metadata": {},
     "outputs": [
      {
       "metadata": {},
       "output_type": "pyout",
       "prompt_number": 14,
       "text": [
        "<matplotlib.text.Text at 0x7fb3ed394d10>"
       ]
      }
     ],
     "prompt_number": 14
    },
    {
     "cell_type": "markdown",
     "metadata": {},
     "source": [
      "<a id='hestonmc'></a>"
     ]
    },
    {
     "cell_type": "heading",
     "level": 5,
     "metadata": {},
     "source": [
      "Heston Model Monte Carlo"
     ]
    },
    {
     "cell_type": "markdown",
     "metadata": {},
     "source": [
      "<center> $ dS = \\mu Sdt+\\sqrt{\\nu} Sd\\mathcal{W}^S_t $ </center>\n",
      "<center> $ d\\nu = \\kappa(\\theta -\\nu )dt + \\omega\\sqrt{\\nu}d\\mathcal{W}^{\\nu}_t $ </center>\n",
      "<center> $ d\\mathcal{W}^{\\nu}_td\\mathcal{W}^{S}_t = \\rho dt $ </center>"
     ]
    },
    {
     "cell_type": "code",
     "collapsed": false,
     "input": [
      "import numpy.random\n",
      "\n",
      "N = 10000   # number of paths\n",
      "Nt = 10000      # number of discretization points in time\n",
      "dt = float(T)/Nt\n",
      "\n",
      "wieners = numpy.random.normal(0,dt,(2*N,Nt))\n",
      "S0 = 100*ones((N,1))\n",
      "v0 = 0.5*ones((N,1))\n",
      "\n",
      "S, v = zeros((N,Nt+1)), zeros((N,Nt+1))\n",
      "S[:,0], v[:,0] = S0.ravel(), v0.ravel()\n",
      "\n",
      "for it,wiener in enumerate(wieners.T):\n",
      "    dS, dv = rf*S[:,it]*dt+sqrt(v[:,it])*S[:,it]*wiener[:N], kappa*(theta-v[:,it])*dt+sigma*sqrt(v[:,it])*wiener[N:]\n",
      "    S[:,it+1], v[:,it+1] = S[:,it]+dS, v[:,it]+dv"
     ],
     "language": "python",
     "metadata": {},
     "outputs": [],
     "prompt_number": 112
    },
    {
     "cell_type": "code",
     "collapsed": false,
     "input": [
      "exp(-rf*T)*maximum(S[:,-1]-K,0).sum()/N, HestonCallFft(kappa,theta,sigma,rho,rf,0.5,100,K,T)"
     ],
     "language": "python",
     "metadata": {},
     "outputs": [
      {
       "metadata": {},
       "output_type": "pyout",
       "prompt_number": 113,
       "text": [
        "(3.9174825824219486, 14.227628976579359)"
       ]
      }
     ],
     "prompt_number": 113
    },
    {
     "cell_type": "heading",
     "level": 5,
     "metadata": {},
     "source": [
      "Frey and Patie"
     ]
    },
    {
     "cell_type": "code",
     "collapsed": false,
     "input": [],
     "language": "python",
     "metadata": {},
     "outputs": []
    },
    {
     "cell_type": "code",
     "collapsed": false,
     "input": [],
     "language": "python",
     "metadata": {},
     "outputs": []
    },
    {
     "cell_type": "code",
     "collapsed": false,
     "input": [],
     "language": "python",
     "metadata": {},
     "outputs": []
    },
    {
     "cell_type": "code",
     "collapsed": false,
     "input": [],
     "language": "python",
     "metadata": {},
     "outputs": []
    },
    {
     "cell_type": "code",
     "collapsed": false,
     "input": [
      "%load_ext version_information\n",
      "%version_information numpy, scipy, matplotlib"
     ],
     "language": "python",
     "metadata": {},
     "outputs": [
      {
       "html": [
        "<table><tr><th>Software</th><th>Version</th></tr><tr><td>Python</td><td>2.7.8 |Anaconda 2.1.0 (64-bit)| (default, Aug 21 2014, 18:22:21) [GCC 4.4.7 20120313 (Red Hat 4.4.7-1)]</td></tr><tr><td>IPython</td><td>2.3.1</td></tr><tr><td>OS</td><td>posix [linux2]</td></tr><tr><td>numpy</td><td>1.9.1</td></tr><tr><td>scipy</td><td>0.14.0</td></tr><tr><td>matplotlib</td><td>1.4.2</td></tr><tr><td colspan='2'>Sun Dec 07 22:42:44 2014 CET</td></tr></table>"
       ],
       "json": [
        "{ \"Software versions\" : [{ \"module\" : \"Python\", \"version\" : \"2.7.8 |Anaconda 2.1.0 (64-bit)| (default, Aug 21 2014, 18:22:21) [GCC 4.4.7 20120313 (Red Hat 4.4.7-1)]\" }, { \"module\" : \"IPython\", \"version\" : \"2.3.1\" }, { \"module\" : \"OS\", \"version\" : \"posix [linux2]\" }, { \"module\" : \"numpy\", \"version\" : \"1.9.1\" }, { \"module\" : \"scipy\", \"version\" : \"0.14.0\" }, { \"module\" : \"matplotlib\", \"version\" : \"1.4.2\" } ] }"
       ],
       "latex": [
        "\\begin{tabular}{|l|l|}\\hline\n",
        "{\\bf Software} & {\\bf Version} \\\\ \\hline\\hline\n",
        "Python & 2.7.8 |Anaconda 2.1.0 (64-bit)| (default, Aug 21 2014, 18:22:21) [GCC 4.4.7 20120313 (Red Hat 4.4.7-1)] \\\\ \\hline\n",
        "IPython & 2.3.1 \\\\ \\hline\n",
        "OS & posix [linux2] \\\\ \\hline\n",
        "numpy & 1.9.1 \\\\ \\hline\n",
        "scipy & 0.14.0 \\\\ \\hline\n",
        "matplotlib & 1.4.2 \\\\ \\hline\n",
        "\\hline \\multicolumn{2}{|l|}{Sun Dec 07 22:42:44 2014 CET} \\\\ \\hline\n",
        "\\end{tabular}\n"
       ],
       "metadata": {},
       "output_type": "pyout",
       "prompt_number": 2,
       "text": [
        "Software versions\n",
        "Python 2.7.8 |Anaconda 2.1.0 (64-bit)| (default, Aug 21 2014, 18:22:21) [GCC 4.4.7 20120313 (Red Hat 4.4.7-1)]\n",
        "IPython 2.3.1\n",
        "OS posix [linux2]\n",
        "numpy 1.9.1\n",
        "scipy 0.14.0\n",
        "matplotlib 1.4.2\n",
        "\n",
        "Sun Dec 07 22:42:44 2014 CET"
       ]
      }
     ],
     "prompt_number": 2
    },
    {
     "cell_type": "code",
     "collapsed": false,
     "input": [
      "from IPython.core.display import HTML\n",
      "def css_styling():\n",
      "    styles = open(\"./styles/custom.css\", \"r\").read()\n",
      "    return HTML(styles)\n",
      "css_styling()"
     ],
     "language": "python",
     "metadata": {},
     "outputs": [
      {
       "html": [
        "<link href='http://fonts.googleapis.com/css?family=Fenix' rel='stylesheet' type='text/css'>\n",
        "<link href='http://fonts.googleapis.com/css?family=Alegreya+Sans:100,300,400,500,700,800,900,100italic,300italic,400italic,500italic,700italic,800italic,900italic' rel='stylesheet' type='text/css'>\n",
        "<link href='http://fonts.googleapis.com/css?family=Source+Code+Pro:300,400' rel='stylesheet' type='text/css'>\n",
        "<style>\n",
        "    @font-face {\n",
        "        font-family: \"Computer Modern\";\n",
        "        src: url('http://mirrors.ctan.org/fonts/cm-unicode/fonts/otf/cmunss.otf');\n",
        "    }\n",
        "    div.cell{\n",
        "        width:1000px;\n",
        "        margin-right:auto;\n",
        "    }\n",
        "    h1 {\n",
        "        font-family: 'Alegreya Sans', sans-serif;\n",
        "    }\n",
        "    h2 {\n",
        "        font-family: 'Fenix', serif;\n",
        "    }\n",
        "    h3{\n",
        "\tfont-family: 'Fenix', serif;\n",
        "        margin-top:12px;\n",
        "        margin-bottom: 3px;\n",
        "       }\n",
        "    h4{\n",
        "\tfont-family: 'Fenix', serif;\n",
        "       }\n",
        "    h5 {\n",
        "        font-family: 'Alegreya Sans', sans-serif;\n",
        "    }\t   \n",
        "    div.text_cell_render{\n",
        "        font-family: 'Alegreya Sans',Computer Modern, \"Helvetica Neue\", Arial, Helvetica, Geneva, sans-serif;\n",
        "        line-height: 140%;\n",
        "        font-size: 130%;\n",
        "        width:1000px;\n",
        "        margin-right:auto;\n",
        "    }\n",
        "    .CodeMirror{\n",
        "\tfont-size: 120%;\n",
        "\tfont-family: 'Monaco', sans-serif;\n",
        "    }\n",
        "/*      .prompt{\n",
        "        display: None;\n",
        "    }*/\n",
        "    .text_cell_render h1 {\n",
        "        font-weight: 200;\n",
        "        font-size: 50pt;\n",
        "\t\tline-height: 100%;\n",
        "        color:#CD2305;\n",
        "        margin-bottom: 0.5em;\n",
        "        margin-top: 0.5em;\n",
        "        display: block;\n",
        "    }\t\n",
        "    .text_cell_render h5 {\n",
        "        font-weight: 300;\n",
        "        font-size: 16pt;\n",
        "        color: #CD2305;\n",
        "        font-style: italic;\n",
        "        margin-bottom: .5em;\n",
        "        margin-top: 0.5em;\n",
        "        display: block;\n",
        "    }\n",
        "    \n",
        "    .warning{\n",
        "        color: rgb( 240, 20, 20 )\n",
        "        }  \n",
        "</style>\n",
        "<script>\n",
        "    MathJax.Hub.Config({\n",
        "                        TeX: {\n",
        "                           extensions: [\"AMSmath.js\"]\n",
        "                           },\n",
        "                tex2jax: {\n",
        "                    inlineMath: [ ['$','$'], [\"\\\\(\",\"\\\\)\"] ],\n",
        "                    displayMath: [ ['$$','$$'], [\"\\\\[\",\"\\\\]\"] ]\n",
        "                },\n",
        "                displayAlign: 'center', // Change this to 'center' to center equations.\n",
        "                \"HTML-CSS\": {\n",
        "                    styles: {'.MathJax_Display': {\"margin\": 4}}\n",
        "                }\n",
        "        });\n",
        "</script>\n"
       ],
       "metadata": {},
       "output_type": "pyout",
       "prompt_number": 1,
       "text": [
        "<IPython.core.display.HTML at 0x7fc8d4b707d0>"
       ]
      }
     ],
     "prompt_number": 1
    },
    {
     "cell_type": "markdown",
     "metadata": {},
     "source": [
      "<a id='End'></a>"
     ]
    },
    {
     "cell_type": "markdown",
     "metadata": {},
     "source": [
      "[Back to top](#Top)"
     ]
    }
   ],
   "metadata": {}
  }
 ]
}