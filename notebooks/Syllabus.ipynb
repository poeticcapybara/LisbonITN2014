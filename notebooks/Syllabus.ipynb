{
 "metadata": {
  "name": "",
  "signature": "sha256:206ad8c764c542377657dba9c77898043c6722d68fb5f5b8abf7d1484f3e8601"
 },
 "nbformat": 3,
 "nbformat_minor": 0,
 "worksheets": [
  {
   "cells": [
    {
     "cell_type": "markdown",
     "metadata": {},
     "source": [
      "#[Workshop Python for Finance](http://financialmathematics.pt/python2014/) \n",
      "#- an Introduction\n",
      "\n",
      "*Jos\u00e9 Pedro Silva* [1](http://www-num.math.uni-wuppertal.de/en/amna/people/jose-pedro-silva.html) - silva@math.uni-wuppertal.de \n",
      "\n",
      "###Date\n",
      "9-11 Dec 2014\n",
      "\n",
      "###Location:\n",
      "\n",
      "ISEG\n",
      "Rua do Quelhas, 6 \n",
      "1200-781 \n",
      "Lisboa, \n",
      "PORTUGAL"
     ]
    },
    {
     "cell_type": "markdown",
     "metadata": {},
     "source": [
      "## Brief description\n",
      "\n",
      "This workshop is aimed at users with few or no proficiency in Python who want to apply numerical methods in Finance. \n",
      "A short introduction to the language and its syntax will be given, as well as a brief description of the most important modules (NumPy, SciPy, Matplotlib, Pandas, IPython) for scientific and financial analysis purposes. \n",
      "The workshop will consist of interactive lectures with several examples followed by practical sessions."
     ]
    },
    {
     "cell_type": "markdown",
     "metadata": {},
     "source": [
      "- ##Day1\n",
      "    - [Python](I-Python.ipynb)\n",
      "    - [IPython](II-IPython.ipynb)\n",
      "    - [Numpy](III-Numpy.ipynb)\n",
      "    - [Matplotlib](V-Matplotlib.ipynb)\n",
      "\n",
      "- ##Day2\n",
      "    - [SciPy](IV-SciPy.ipynb)\n",
      "    - [Pandas](VI-Pandas.ipynb)\n",
      "    - [Tips and Tricks](VII-Tips-and-Tricks.ipynb)\n",
      "    - [Benchmarks](VIII-Benchmarks.ipynb)\n",
      "    - [Randomness](IX-Randomness.ipynb)\n",
      "    - [FFT](X-FFT.ipynb)\n",
      "    - [Option Pricing](XI-OptionPricing.ipynb)"
     ]
    },
    {
     "cell_type": "heading",
     "level": 1,
     "metadata": {},
     "source": [
      "More information"
     ]
    },
    {
     "cell_type": "markdown",
     "metadata": {},
     "source": [
      "- [For Python Quants Conference](http://forpythonquants.com/)\n",
      "- [Quantopian](http://www.quantopian.com)\n",
      "- [ContinuumIO Python for Finance course](https://store.continuum.io/cshop/python-for-finance/)"
     ]
    },
    {
     "cell_type": "code",
     "collapsed": false,
     "input": [
      "%load_ext version_information\n",
      "%version_information numpy, matplotlib, scipy, pandas"
     ],
     "language": "python",
     "metadata": {},
     "outputs": [
      {
       "html": [
        "<table><tr><th>Software</th><th>Version</th></tr><tr><td>Python</td><td>2.7.8 |Anaconda 2.1.0 (64-bit)| (default, Aug 21 2014, 18:22:21) [GCC 4.4.7 20120313 (Red Hat 4.4.7-1)]</td></tr><tr><td>IPython</td><td>2.3.1</td></tr><tr><td>OS</td><td>posix [linux2]</td></tr><tr><td>numpy</td><td>1.9.1</td></tr><tr><td>matplotlib</td><td>1.4.2</td></tr><tr><td>scipy</td><td>0.14.0</td></tr><tr><td>pandas</td><td>0.15.1</td></tr><tr><td colspan='2'>Fri Dec 05 10:35:46 2014 CET</td></tr></table>"
       ],
       "json": [
        "{ \"Software versions\" : [{ \"module\" : \"Python\", \"version\" : \"2.7.8 |Anaconda 2.1.0 (64-bit)| (default, Aug 21 2014, 18:22:21) [GCC 4.4.7 20120313 (Red Hat 4.4.7-1)]\" }, { \"module\" : \"IPython\", \"version\" : \"2.3.1\" }, { \"module\" : \"OS\", \"version\" : \"posix [linux2]\" }, { \"module\" : \"numpy\", \"version\" : \"1.9.1\" }, { \"module\" : \"matplotlib\", \"version\" : \"1.4.2\" }, { \"module\" : \"scipy\", \"version\" : \"0.14.0\" }, { \"module\" : \"pandas\", \"version\" : \"0.15.1\" } ] }"
       ],
       "latex": [
        "\\begin{tabular}{|l|l|}\\hline\n",
        "{\\bf Software} & {\\bf Version} \\\\ \\hline\\hline\n",
        "Python & 2.7.8 |Anaconda 2.1.0 (64-bit)| (default, Aug 21 2014, 18:22:21) [GCC 4.4.7 20120313 (Red Hat 4.4.7-1)] \\\\ \\hline\n",
        "IPython & 2.3.1 \\\\ \\hline\n",
        "OS & posix [linux2] \\\\ \\hline\n",
        "numpy & 1.9.1 \\\\ \\hline\n",
        "matplotlib & 1.4.2 \\\\ \\hline\n",
        "scipy & 0.14.0 \\\\ \\hline\n",
        "pandas & 0.15.1 \\\\ \\hline\n",
        "\\hline \\multicolumn{2}{|l|}{Fri Dec 05 10:35:46 2014 CET} \\\\ \\hline\n",
        "\\end{tabular}\n"
       ],
       "metadata": {},
       "output_type": "pyout",
       "prompt_number": 1,
       "text": [
        "Software versions\n",
        "Python 2.7.8 |Anaconda 2.1.0 (64-bit)| (default, Aug 21 2014, 18:22:21) [GCC 4.4.7 20120313 (Red Hat 4.4.7-1)]\n",
        "IPython 2.3.1\n",
        "OS posix [linux2]\n",
        "numpy 1.9.1\n",
        "matplotlib 1.4.2\n",
        "scipy 0.14.0\n",
        "pandas 0.15.1\n",
        "\n",
        "Fri Dec 05 10:35:46 2014 CET"
       ]
      }
     ],
     "prompt_number": 1
    },
    {
     "cell_type": "markdown",
     "metadata": {},
     "source": [
      "*All notebooks will be available from the official ITN-Strike repository soon*"
     ]
    },
    {
     "cell_type": "code",
     "collapsed": false,
     "input": [
      "from IPython.core.display import HTML\n",
      "def css_styling():\n",
      "    styles = open(\"./styles/custom.css\", \"r\").read()\n",
      "    return HTML(styles)\n",
      "css_styling()"
     ],
     "language": "python",
     "metadata": {},
     "outputs": [
      {
       "html": [
        "<link href='http://fonts.googleapis.com/css?family=Fenix' rel='stylesheet' type='text/css'>\n",
        "<link href='http://fonts.googleapis.com/css?family=Alegreya+Sans:100,300,400,500,700,800,900,100italic,300italic,400italic,500italic,700italic,800italic,900italic' rel='stylesheet' type='text/css'>\n",
        "<link href='http://fonts.googleapis.com/css?family=Source+Code+Pro:300,400' rel='stylesheet' type='text/css'>\n",
        "<style>\n",
        "    @font-face {\n",
        "        font-family: \"Computer Modern\";\n",
        "        src: url('http://mirrors.ctan.org/fonts/cm-unicode/fonts/otf/cmunss.otf');\n",
        "    }\n",
        "    div.cell{\n",
        "        width:1000px;\n",
        "        margin-right:auto;\n",
        "    }\n",
        "    h1 {\n",
        "        font-family: 'Alegreya Sans', sans-serif;\n",
        "    }\n",
        "    h2 {\n",
        "        font-family: 'Fenix', serif;\n",
        "    }\n",
        "    h3{\n",
        "\tfont-family: 'Fenix', serif;\n",
        "        margin-top:12px;\n",
        "        margin-bottom: 3px;\n",
        "       }\n",
        "    h4{\n",
        "\tfont-family: 'Fenix', serif;\n",
        "       }\n",
        "    h5 {\n",
        "        font-family: 'Alegreya Sans', sans-serif;\n",
        "    }\t   \n",
        "    div.text_cell_render{\n",
        "        font-family: 'Alegreya Sans',Computer Modern, \"Helvetica Neue\", Arial, Helvetica, Geneva, sans-serif;\n",
        "        line-height: 140%;\n",
        "        font-size: 130%;\n",
        "        width:1000px;\n",
        "        margin-right:auto;\n",
        "    }\n",
        "    .CodeMirror{\n",
        "\tfont-size: 120%;\n",
        "\tfont-family: 'Monaco', sans-serif;\n",
        "    }\n",
        "/*      .prompt{\n",
        "        display: None;\n",
        "    }*/\n",
        "    .text_cell_render h1 {\n",
        "        font-weight: 200;\n",
        "        font-size: 50pt;\n",
        "\t\tline-height: 100%;\n",
        "        color:#CD2305;\n",
        "        margin-bottom: 0.5em;\n",
        "        margin-top: 0.5em;\n",
        "        display: block;\n",
        "    }\t\n",
        "    .text_cell_render h5 {\n",
        "        font-weight: 300;\n",
        "        font-size: 16pt;\n",
        "        color: #CD2305;\n",
        "        font-style: italic;\n",
        "        margin-bottom: .5em;\n",
        "        margin-top: 0.5em;\n",
        "        display: block;\n",
        "    }\n",
        "    \n",
        "    .warning{\n",
        "        color: rgb( 240, 20, 20 )\n",
        "        }  \n",
        "</style>\n",
        "<script>\n",
        "    MathJax.Hub.Config({\n",
        "                        TeX: {\n",
        "                           extensions: [\"AMSmath.js\"]\n",
        "                           },\n",
        "                tex2jax: {\n",
        "                    inlineMath: [ ['$','$'], [\"\\\\(\",\"\\\\)\"] ],\n",
        "                    displayMath: [ ['$$','$$'], [\"\\\\[\",\"\\\\]\"] ]\n",
        "                },\n",
        "                displayAlign: 'center', // Change this to 'center' to center equations.\n",
        "                \"HTML-CSS\": {\n",
        "                    styles: {'.MathJax_Display': {\"margin\": 4}}\n",
        "                }\n",
        "        });\n",
        "</script>\n"
       ],
       "metadata": {},
       "output_type": "pyout",
       "prompt_number": 2,
       "text": [
        "<IPython.core.display.HTML at 0x7f2fa3d8abd0>"
       ]
      }
     ],
     "prompt_number": 2
    },
    {
     "cell_type": "code",
     "collapsed": false,
     "input": [],
     "language": "python",
     "metadata": {},
     "outputs": []
    }
   ],
   "metadata": {}
  }
 ]
}